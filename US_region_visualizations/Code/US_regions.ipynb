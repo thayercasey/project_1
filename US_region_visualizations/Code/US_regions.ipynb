{
 "cells": [
  {
   "cell_type": "code",
   "execution_count": 24,
   "id": "b4f71cea-c363-4530-b826-36a9af45efdf",
   "metadata": {},
   "outputs": [],
   "source": [
    "\n",
    "import geopandas as gpd\n",
    "import pandas as pd\n",
    "import hvplot.pandas\n",
    "import cartopy.crs as ccrs\n",
    "import cartopy.feature as cfeature"
   ]
  },
  {
   "cell_type": "code",
   "execution_count": 25,
   "id": "e73bc2ce-45ec-4e3f-97df-c4d57b4a0a68",
   "metadata": {},
   "outputs": [
    {
     "data": {
      "text/plain": [
       "['naturalearth_cities', 'naturalearth_lowres', 'nybb']"
      ]
     },
     "execution_count": 25,
     "metadata": {},
     "output_type": "execute_result"
    }
   ],
   "source": [
    "gpd.datasets.available"
   ]
  },
  {
   "cell_type": "code",
   "execution_count": 26,
   "id": "7cc1b537-c13e-46cb-9c68-85f4aba42291",
   "metadata": {},
   "outputs": [],
   "source": [
    "data = gpd.read_file(\"../Resources/US_regions.txt\")"
   ]
  },
  {
   "cell_type": "code",
   "execution_count": 27,
   "id": "c704a92e-ae4a-483e-bf88-8b76cfc8af2b",
   "metadata": {},
   "outputs": [
    {
     "data": {
      "text/plain": [
       "<AxesSubplot:>"
      ]
     },
     "execution_count": 27,
     "metadata": {},
     "output_type": "execute_result"
    },
    {
     "data": {
      "image/png": "[encoded data removed]",
      "text/plain": [
       "<Figure size 432x288 with 1 Axes>"
      ]
     },
     "metadata": {
      "needs_background": "light"
     },
     "output_type": "display_data"
    }
   ],
   "source": [
    "data.plot()"
   ]
  },
  {
   "cell_type": "code",
   "execution_count": 28,
   "id": "a91210dd-4682-437c-9a8f-5f57e51f33c8",
   "metadata": {},
   "outputs": [
    {
     "name": "stdout",
     "output_type": "stream",
     "text": [
      "<class 'geopandas.geodataframe.GeoDataFrame'>\n"
     ]
    }
   ],
   "source": [
    "print(type(data))"
   ]
  },
  {
   "cell_type": "code",
   "execution_count": 45,
   "id": "81d880c4-e5c5-4608-a5ca-095c8a5b7d07",
   "metadata": {},
   "outputs": [
    {
     "name": "stderr",
     "output_type": "stream",
     "text": [
      "WARNING:param.main: edge_color option not found for points plot; similar options include: ['muted_color', 'line_color', 'muted_line_color']\n"
     ]
    },
    {
     "data": {},
     "metadata": {},
     "output_type": "display_data"
    },
    {
     "data": {
      "application/vnd.holoviews_exec.v0+json": "",
      "text/html": [
       "<div id='3549'>\n",
       "\n",
       "\n",
       "\n",
       "\n",
       "\n",
       "  <div class=\"bk-root\" id=\"a1ae4e08-3cd6-4056-a0e8-3e39ba1f43f3\" data-root-id=\"3549\"></div>\n",
       "</div>\n",
       "<script type=\"application/javascript\">(function(root) {\n",
       "  function embed_document(root) {\n",
       "    var docs_json = {\"d1e5c75a-6c73-4b31-b108-c1bbc7a25a61\":{\"defs\":[{\"extends\":null,\"module\":null,\"name\":\"ReactiveHTML1\",\"overrides\":[],\"properties\":[]},{\"extends\":null,\"module\":null,\"name\":\"FlexBox1\",\"overrides\":[],\"properties\":[{\"default\":\"flex-start\",\"kind\":null,\"name\":\"align_content\"},{\"default\":\"flex-start\",\"kind\":null,\"name\":\"align_items\"},{\"default\":\"row\",\"kind\":null,\"name\":\"flex_direction\"},{\"default\":\"wrap\",\"kind\":null,\"name\":\"flex_wrap\"},{\"default\":\"flex-start\",\"kind\":null,\"name\":\"justify_content\"}]},{\"extends\":null,\"module\":null,\"name\":\"TemplateActions1\",\"overrides\":[],\"properties\":[{\"default\":0,\"kind\":null,\"name\":\"open_modal\"},{\"default\":0,\"kind\":null,\"name\":\"close_modal\"}]},{\"extends\":null,\"module\":null,\"name\":\"MaterialTemplateActions1\",\"overrides\":[],\"properties\":[{\"default\":0,\"kind\":null,\"name\":\"open_modal\"},{\"default\":0,\"kind\":null,\"name\":\"close_modal\"}]}],\"roots\":{\"references\":[{\"attributes\":{\"coordinates\":null,\"group\":null,\"level\":\"glyph\",\"tile_source\":{\"id\":\"3620\"}},\"id\":\"3623\",\"type\":\"TileRenderer\"},{\"attributes\":{\"data\":{\"Latitude\":{\"__ndarray__\":\"rlnt4pkBWUHgyICzkP1YQdaW1AmOC0RBARRNZdv9Q0GuWe3imQFZQbuYO3dz3VNB+VT5jDVrUkFu580RRF9SQRccYTrx+lFBP6QgbGy8UkHWLoDhstZSQYpSWUlqElNBms6eQYYlU0Gazp5BhiVTQRNhc8aUGVNBt2cYNPdGU0FFNFWtr1dTQWks4J3nfVNBeagllgORU0F9BzeUypVTQfOZCxnZiVNBeagllgORU0GNg3yM5qhTQSlt7f/zx1NBRQZn8mTpU0HS0qNrHfpTQWKf4OTVClRBbF0D4WMUVEGQtJ/PYj9UQTsaVjuMcVRB7T0vo0OtVEF73H1hsU9VQa5QTkoFiVVBuW2CRFqXVUHvQGQrddVVQfOfdSk82lVBMgOMUZqzVkFeGEs8J+hWQVu5OT5g41ZBT/sWQtLZVkHPSw7DbtdWQcWN68bgzVZBy+z8xKfSVkHohXa3GPRWQenkh7Xf+FZBB03eZNSDVkHXNx96R09WQb+epYfWLVZBILU0FMkOVkEM2t0d5vZVQeaCQS/ny1VBzUjZOj2vVUFVV/O3Z7ZVQTe+ecX2lFVBRNutv0ujVUFE262/S6NVQZh191MicVVBFsbu1L5uVUEbJQDThXNVQdB2x/WHHVVBsH48BVD3VEHp3h2lfKhUQWyOJiTgqlRBzUWksguHVEEB6GJWqi5UQbuYO3dz3VNBvXPsVL3nV0Gazp5BhiVTQZrOnkGGJVNB6Kym7XnxUEGyAp0lzfFQQXjQqUDrrlBBeNCpQOuuUEFE/cdZ0HBQQT2etlsJbFBBsgKdJc3xUEHAH9EfIgBRQd4XXBBaJlFB7pOhCHY5UUESjCz5rV9RQRxKT/U7aVFBEows+a1fUUEkZ4PvkHdRQRxKT/U7aVFBLyWm6x6BUUEkZ4PvkHdRQUlfDuDInVFBYZl21HK6UUFmV5nQAMRRQa6mwK83FVJBqUevsXAQUkGRDUe9xvNRQYCRAcWq4FFBeNPeyBzXUUFvFbzMjs1RQXwy8Mbj21FBWNtT2OSwUUGay2m5VP1RQYuuNb//7lFBqUevsXAQUkHDgRemGi1SQenYs5QZWFJBXT2aXt3dUkFfnKtcpOJSQTvpMvgP21NB7zr6GhKFU0EBFlER9ZxTQTSKIfpI1lNBbrwU3yoZVEHK5pK0RIJUQciKtj6vpVVBDNrdHeb2VUEgtTQUyQ5WQS7SaA4eHVZBZaVK9ThbVkFlpUr1OFtWQZYZG96MlFZBVotLgxV1V0E3k8CS3U5XQTry0ZCkU1dBQrD0jDJdV0FWi0uDFXVXQT5R445rWFdBZah/fWqDV0FTLDqFTnBXQXLFs3e/kVdBj70+aPe3V0F84udxFKBXQYegCm6iqVdBj70+aPe3V0Gg2nJiTMZXQeqIqz9KHFhB+QTxN2YvWEG+0v1ShOxXQb1z7FS951dBvXPsVL3nV0GXb41DvyBTQZrOnkGGJVNB6Kym7XnxUEGyAp0lzfFQQdwYOmj0qUxB4dZcZIKzTEGwYox7LnpMQbBijHsuekxBSnrrqYYHTEFS2fynTQxMQVY7Qy5GOU1BiVACGdNtTUFdmlQsDT5NQdZdTPSXyE1BQQQQws1ETkF01/Go6IJOQWNbrLDMb05BdNfxqOiCTkGqS8KRPLxOQaqq048DwU5BuMcHiljPTkHifbV2Hv9OQQXVUWUdKk9BA3ZAZ1YlT0EQ8oVfcjhPQRDyhV9yOE9BJs3cVVVQT0FQg4pCG4BPQYGYSS2otE9BrK0IGDXpT0HicziG7wJQQXJAdf+nE1BBDSrmcrUyUEESifdwfDdQQZ1VNOo0SFBBto+c3t5kUEHahyfPFotQQf/ew70VtlBBGXg9sIbXUEGoRHopP+hQQahEeik/6FBBwB/RHyIAUUHeuEoSkyFRQYK/73/1TlFBHEpP9TtpUUGpFoxu9HlRQbeS0WYQjVFB2IpcV0izUUHuZbNNK8tRQZENR73G81FBqUevsXAQUkG6w/SpjCNSQdlcbpz9RFJBC9E+hVF+UkGpGcH2JaJSQTjm/W/eslJB1i6A4bLWUkFl+7xaa+dSQYGUNk3cCFNBFsCExFseU0GpSuQ5ojhTQUiTZqt2XFNB2V+jJC9tU0HvOvoaEoVTQfb4HBegjlNBjYN8jOaoU0Gb/8GEArxTQbB7B30ez1NBu5g7d3PdU0FGZXjwK+5TQdmQxmerA1RB8msdXo4bVEH6iFFY4ylUQcSHgbZ9fVRBDdeolbTOVEH8XZglyuNVQUlr4gCPPlZBmHgs3FOZVkERPCSk3iNXQXyD1nNNm1dBVotLgxV1V0FyxbN3v5FXQY3/G2xprldBpZiVXtrPV0G+0v1ShOxXQb1z7FS951dBsgKdJc3xUEHcGDpo9KlMQeHWXGSCs0xBqKRpf6BwTEFmtFOeMCRMQdJX4uM0eEtBsV9X8/xRS0Fvb0ESjQVLQf0KW0jJf0pBvBpFZ1kzSkGHpnR+BfpJQU10gZkjt0lBf+hRgnfwSUH2TDhMO3ZKQQDJfURXiUpB/QpbSMl/SkG8GkVnWTNKQUO2Xp2VrUlB1w+bz18xSUFWL28NgJhIQSG7niQsX0hBuRTbVvbiR0EmuGmc+jZHQePHU7uK6kZBvc/IylLERkHPSw7DbtdGQVAsOoVOcEdBxZAgTxL2R0Fkq7QFnKtIQbcXEN8nC0lBFkKOtEF0SUGg4NxyrxZKQc9UrVsDUEpB/QpbSMl/SkHXEtBXkVlKQcTYZ2PnPEpBh6Z0fgX6SUF/6FGCd/BJQeXQ8lMfY0pBQLmTJcfVSkGKqakGNyJLQW9vQRKNBUtBxNuc6xhlS0F3LWQOGw9LQYqpqQY3IktBiqmpBjciS0GxX1fz/FFLQYqpqQY3IktBj2fMAsUrS0GKqakGNyJLQVF3tiFV30pB9kw4TDt2SkEWRcM8c5xKQbyqeaiczkpBxwmLpmPTSkFAWoInANFKQS1/KzEduUpBgRl1xfOGSkHl0PJTH2NKQT+IcOJKP0pBGdLC9YQPSkF5iUCEsOtJQf44SQMU7klBtooQJhaYSUHqi+DHe0RJQa9Z7eKZAUlB6Fq9hP+tSEHNwUOSjoxIQazJuKFWZkhB/GMCNi00SEEvBsHZy9tHQQHxAe8+p0dBiP8bbGmuR0Ejinvhr8hHQVrT5SO3wkdBvOl0sKmjR0ExviY5Ko5HQWwHkXsxiEdBj9S1xRxvR0E68tGQpFNHQTry0ZCkU0dBsISmFbNHR0FeAdTeATFHQb+4UW0tDUdBlwKkgGfdRkH4GDMNWr5GQZZ4LNxTmUZBdCGQ7VRuRkGEtExDljhGQZ2mGpeeB0ZBsCJgj7oaRkHDXMiDZDdGQfASdnAqZ0ZBEmoSXymSRkG9cLfMi79GQe3kh7Xf+EZBRLD0jDJdR0H+Mt/ysJ1HQThl0teS4EdB2gxmRy4JSEHC1TLbtRRJQV6/o07DM0lBDON8tnpvSUEfvtOsXYdJQe2OFVCtbEpBXfP7GXHySkG8fIvtUWBLQQ+K1cgWu0tBZrRTnjAkTEHE3tFzSo1MQTdDuD0OE01BfvHwGgxpTUEkmYSKp5FNQe+XtOhB5U1BVT54tndhTkGREVqdkp9OQY9wa5tZpE5BuiYZiB/UTkH4WAxtARdPQTTqEFCqXk9BWEGtPqmJT0GBmEktqLRPQaytCBg16U9Bu8o8Eor3T0F2n4b9bhhQQYK8uvfDJlBB8JBsgEQRUEFt4WMB4Q5QQYp63fNRMFBBHKYra9FFUEGx0XniUFtQQbQwi+AXYFBBto+c3t5kUEE14JNfe2JQQUT9x1nQcFBBUBr8UyV/UEHVKBbRT4ZQQexifsX5olBBiUzvOAfCUEGghlctsd5QQaflaCt441BBMFOUpmnvUEFYCUKTLx9RQWmFh4tLMlFBTOwNmdoQUUFeaFOR9iNRQS8lpusegVFBFxxhOvH6UUHvltaQp2FSQflU+Yw1a1JBId24vrAsU0FpiLwTfVpSQTBWyS6bF1JBi641v//uUUGay2m5VP1RQdiKXFdIs1FB+oLnR4DZUUFvFbzMjs1RQQRBCkQO41FBKJimMg0OUkEu97cw1BJSQW62qs7HyFFB3+ltVQ+4UUEkZ4PvkHdRQbLUrmqCg1FBmvlXdJ9rUUEkZ4PvkHdRQY7cI3pKXVFBHqlg8wJuUUGVOzV4EWJRQWmFh4tLMlFB3hdcEFomUUE8cMigvv1QQTBTlKZp71BBRP3HWdBwUEHBTb/abG5QQXjQqUDrrlBB+X+yv06xUEEwU5Smae9QQbICnSXN8VBB\",\"dtype\":\"float64\",\"order\":\"little\",\"shape\":[402]},\"Longitude\":{\"__ndarray__\":\"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\",\"dtype\":\"float64\",\"order\":\"little\",\"shape\":[402]}},\"selected\":{\"id\":\"3626\"},\"selection_policy\":{\"id\":\"3640\"}},\"id\":\"3625\",\"type\":\"ColumnDataSource\"},{\"attributes\":{\"source\":{\"id\":\"3625\"}},\"id\":\"3633\",\"type\":\"CDSView\"},{\"attributes\":{\"angle\":{\"value\":0.0},\"fill_alpha\":{\"value\":1.0},\"fill_color\":{\"value\":\"#30a2da\"},\"hatch_alpha\":{\"value\":1.0},\"hatch_color\":{\"value\":\"#30a2da\"},\"hatch_scale\":{\"value\":12.0},\"hatch_weight\":{\"value\":1.0},\"line_alpha\":{\"value\":1.0},\"line_cap\":{\"value\":\"butt\"},\"line_color\":{\"value\":\"#30a2da\"},\"line_dash\":{\"value\":[]},\"line_dash_offset\":{\"value\":0},\"line_join\":{\"value\":\"bevel\"},\"line_width\":{\"value\":1},\"marker\":{\"value\":\"circle\"},\"size\":{\"value\":5.477225575051661},\"x\":{\"field\":\"Longitude\"},\"y\":{\"field\":\"Latitude\"}},\"id\":\"3636\",\"type\":\"Scatter\"},{\"attributes\":{\"bottom_units\":\"screen\",\"coordinates\":null,\"fill_alpha\":0.5,\"fill_color\":\"lightgrey\",\"group\":null,\"left_units\":\"screen\",\"level\":\"overlay\",\"line_alpha\":1.0,\"line_color\":\"black\",\"line_dash\":[4,4],\"line_width\":2,\"right_units\":\"screen\",\"syncable\":false,\"top_units\":\"screen\"},\"id\":\"3584\",\"type\":\"BoxAnnotation\"},{\"attributes\":{\"margin\":[5,5,5,5],\"name\":\"HSpacer08050\",\"sizing_mode\":\"stretch_width\"},\"id\":\"3550\",\"type\":\"Spacer\"},{\"attributes\":{\"dimension\":\"lon\"},\"id\":\"3594\",\"type\":\"MercatorTicker\"},{\"attributes\":{},\"id\":\"3567\",\"type\":\"LinearScale\"},{\"attributes\":{\"fill_alpha\":{\"value\":0.1},\"fill_color\":{\"value\":\"#30a2da\"},\"hatch_alpha\":{\"value\":0.1},\"hatch_color\":{\"value\":\"#30a2da\"},\"line_alpha\":{\"value\":0.1},\"line_color\":{\"value\":\"#30a2da\"},\"size\":{\"value\":5.477225575051661},\"x\":{\"field\":\"Longitude\"},\"y\":{\"field\":\"Latitude\"}},\"id\":\"3629\",\"type\":\"Scatter\"},{\"attributes\":{},\"id\":\"3600\",\"type\":\"AllLabels\"},{\"attributes\":{\"margin\":[5,5,5,5],\"name\":\"HSpacer08051\",\"sizing_mode\":\"stretch_width\"},\"id\":\"3691\",\"type\":\"Spacer\"},{\"attributes\":{\"below\":[{\"id\":\"3571\"}],\"center\":[{\"id\":\"3574\"},{\"id\":\"3578\"}],\"frame_height\":500,\"frame_width\":900,\"height\":null,\"left\":[{\"id\":\"3575\"}],\"margin\":[5,5,5,5],\"match_aspect\":true,\"min_border_bottom\":10,\"min_border_left\":10,\"min_border_right\":10,\"min_border_top\":10,\"renderers\":[{\"id\":\"3623\"},{\"id\":\"3632\"}],\"sizing_mode\":\"fixed\",\"title\":{\"id\":\"3563\"},\"toolbar\":{\"id\":\"3585\"},\"width\":null,\"x_range\":{\"id\":\"3555\"},\"x_scale\":{\"id\":\"3567\"},\"y_range\":{\"id\":\"3556\"},\"y_scale\":{\"id\":\"3569\"}},\"id\":\"3562\",\"subtype\":\"Figure\",\"type\":\"Plot\"},{\"attributes\":{\"end\":6948729.016062596,\"min_interval\":5,\"reset_end\":6948729.016062596,\"reset_start\":2226853.2664614287,\"start\":2226853.2664614287,\"tags\":[[[\"Latitude\",\"Latitude\",null]]]},\"id\":\"3556\",\"type\":\"Range1d\"},{\"attributes\":{\"attribution\":\"&copy; <a href=\\\"https://www.openstreetmap.org/copyright\\\">OpenStreetMap</a> contributors\",\"url\":\"https://c.tile.openstreetmap.org/{Z}/{X}/{Y}.png\"},\"id\":\"3620\",\"type\":\"WMTSTileSource\"},{\"attributes\":{\"dimension\":\"lat\"},\"id\":\"3597\",\"type\":\"MercatorTickFormatter\"},{\"attributes\":{},\"id\":\"3626\",\"type\":\"Selection\"},{\"attributes\":{\"axis\":{\"id\":\"3575\"},\"coordinates\":null,\"dimension\":1,\"grid_line_color\":null,\"group\":null,\"ticker\":null},\"id\":\"3578\",\"type\":\"Grid\"},{\"attributes\":{\"callback\":null,\"formatters\":{\"$x\":{\"id\":\"3634\"},\"$y\":{\"id\":\"3635\"}},\"renderers\":[{\"id\":\"3632\"}],\"tags\":[\"hv_created\"],\"tooltips\":[[\"Longitude\",\"$x{custom}\"],[\"Latitude\",\"$y{custom}\"]]},\"id\":\"3559\",\"type\":\"HoverTool\"},{\"attributes\":{\"match_aspect\":true,\"overlay\":{\"id\":\"3584\"}},\"id\":\"3582\",\"type\":\"BoxZoomTool\"},{\"attributes\":{\"axis_label\":\"y\",\"coordinates\":null,\"formatter\":{\"id\":\"3597\"},\"group\":null,\"major_label_policy\":{\"id\":\"3607\"},\"ticker\":{\"id\":\"3596\"}},\"id\":\"3575\",\"type\":\"LinearAxis\"},{\"attributes\":{},\"id\":\"3580\",\"type\":\"PanTool\"},{\"attributes\":{},\"id\":\"3607\",\"type\":\"AllLabels\"},{\"attributes\":{\"fill_alpha\":{\"value\":0.2},\"fill_color\":{\"value\":\"#30a2da\"},\"hatch_alpha\":{\"value\":0.2},\"hatch_color\":{\"value\":\"#30a2da\"},\"line_alpha\":{\"value\":0.2},\"line_color\":{\"value\":\"#30a2da\"},\"size\":{\"value\":5.477225575051661},\"x\":{\"field\":\"Longitude\"},\"y\":{\"field\":\"Latitude\"}},\"id\":\"3631\",\"type\":\"Scatter\"},{\"attributes\":{\"coordinates\":null,\"data_source\":{\"id\":\"3625\"},\"glyph\":{\"id\":\"3628\"},\"group\":null,\"hover_glyph\":{\"id\":\"3630\"},\"muted_glyph\":{\"id\":\"3631\"},\"nonselection_glyph\":{\"id\":\"3629\"},\"selection_glyph\":{\"id\":\"3636\"},\"view\":{\"id\":\"3633\"}},\"id\":\"3632\",\"type\":\"GlyphRenderer\"},{\"attributes\":{},\"id\":\"3583\",\"type\":\"ResetTool\"},{\"attributes\":{\"dimension\":\"lat\"},\"id\":\"3596\",\"type\":\"MercatorTicker\"},{\"attributes\":{\"dimension\":\"lon\"},\"id\":\"3595\",\"type\":\"MercatorTickFormatter\"},{\"attributes\":{},\"id\":\"3640\",\"type\":\"UnionRenderers\"},{\"attributes\":{\"coordinates\":null,\"group\":null,\"text\":\"Gas Price Increase Rates from 2016-2021\",\"text_color\":\"black\",\"text_font_size\":\"12pt\"},\"id\":\"3563\",\"type\":\"Title\"},{\"attributes\":{\"end\":-6670825.44105036,\"min_interval\":5,\"reset_end\":-6670825.44105036,\"reset_start\":-14911849.614960827,\"start\":-14911849.614960827,\"tags\":[[[\"Longitude\",\"Longitude\",null]]]},\"id\":\"3555\",\"type\":\"Range1d\"},{\"attributes\":{\"fill_color\":{\"value\":\"#30a2da\"},\"hatch_color\":{\"value\":\"#30a2da\"},\"line_color\":{\"value\":\"#30a2da\"},\"size\":{\"value\":5.477225575051661},\"x\":{\"field\":\"Longitude\"},\"y\":{\"field\":\"Latitude\"}},\"id\":\"3628\",\"type\":\"Scatter\"},{\"attributes\":{\"children\":[{\"id\":\"3550\"},{\"id\":\"3562\"},{\"id\":\"3691\"}],\"margin\":[0,0,0,0],\"name\":\"Row08046\",\"tags\":[\"embedded\"]},\"id\":\"3549\",\"type\":\"Row\"},{\"attributes\":{\"axis_label\":\"x\",\"coordinates\":null,\"formatter\":{\"id\":\"3595\"},\"group\":null,\"major_label_policy\":{\"id\":\"3600\"},\"ticker\":{\"id\":\"3594\"}},\"id\":\"3571\",\"type\":\"LinearAxis\"},{\"attributes\":{},\"id\":\"3579\",\"type\":\"SaveTool\"},{\"attributes\":{\"zoom_on_axis\":false},\"id\":\"3581\",\"type\":\"WheelZoomTool\"},{\"attributes\":{\"axis\":{\"id\":\"3571\"},\"coordinates\":null,\"grid_line_color\":null,\"group\":null,\"ticker\":null},\"id\":\"3574\",\"type\":\"Grid\"},{\"attributes\":{\"fill_color\":{\"value\":\"yellow\"},\"hatch_color\":{\"value\":\"#30a2da\"},\"line_color\":{\"value\":\"#30a2da\"},\"size\":{\"value\":5.477225575051661},\"x\":{\"field\":\"Longitude\"},\"y\":{\"field\":\"Latitude\"}},\"id\":\"3630\",\"type\":\"Scatter\"},{\"attributes\":{},\"id\":\"3569\",\"type\":\"LinearScale\"},{\"attributes\":{\"code\":\"\\n        var projections = Bokeh.require(\\\"core/util/projections\\\");\\n        var x = special_vars.data_x\\n        var y = special_vars.data_y\\n        if (projections.wgs84_mercator.invert == null) {\\n          var coords = projections.wgs84_mercator.inverse([x, y])\\n        } else {\\n          var coords = projections.wgs84_mercator.invert(x, y)\\n        }\\n        return \\\"\\\" + (coords[0]).toFixed(4)\\n    \"},\"id\":\"3634\",\"type\":\"CustomJSHover\"},{\"attributes\":{\"tools\":[{\"id\":\"3559\"},{\"id\":\"3579\"},{\"id\":\"3580\"},{\"id\":\"3581\"},{\"id\":\"3582\"},{\"id\":\"3583\"}]},\"id\":\"3585\",\"type\":\"Toolbar\"},{\"attributes\":{\"code\":\"\\n        var projections = Bokeh.require(\\\"core/util/projections\\\");\\n        var x = special_vars.data_x\\n        var y = special_vars.data_y\\n        if (projections.wgs84_mercator.invert == null) {\\n          var coords = projections.wgs84_mercator.inverse([x, y])\\n        } else {\\n          var coords = projections.wgs84_mercator.invert(x, y)\\n        }\\n        return \\\"\\\" + (coords[1]).toFixed(4)\\n    \"},\"id\":\"3635\",\"type\":\"CustomJSHover\"}],\"root_ids\":[\"3549\"]},\"title\":\"Bokeh Application\",\"version\":\"2.4.1\"}};\n",
       "    var render_items = [{\"docid\":\"d1e5c75a-6c73-4b31-b108-c1bbc7a25a61\",\"root_ids\":[\"3549\"],\"roots\":{\"3549\":\"a1ae4e08-3cd6-4056-a0e8-3e39ba1f43f3\"}}];\n",
       "    root.Bokeh.embed.embed_items_notebook(docs_json, render_items);\n",
       "  }\n",
       "  if (root.Bokeh !== undefined && root.Bokeh.Panel !== undefined) {\n",
       "    embed_document(root);\n",
       "  } else {\n",
       "    var attempts = 0;\n",
       "    var timer = setInterval(function(root) {\n",
       "      if (root.Bokeh !== undefined && root.Bokeh.Panel !== undefined) {\n",
       "        clearInterval(timer);\n",
       "        embed_document(root);\n",
       "      } else if (document.readyState == \"complete\") {\n",
       "        attempts++;\n",
       "        if (attempts > 200) {\n",
       "          clearInterval(timer);\n",
       "          console.log(\"Bokeh: ERROR: Unable to run BokehJS code because BokehJS library is missing\");\n",
       "        }\n",
       "      }\n",
       "    }, 25, root)\n",
       "  }\n",
       "})(window);</script>"
      ],
      "text/plain": [
       ":Overlay\n",
       "   .Tiles.I  :Tiles   [x,y]\n",
       "   .Points.I :Points   [Longitude,Latitude]"
      ]
     },
     "execution_count": 45,
     "metadata": {
      "application/vnd.holoviews_exec.v0+json": {
       "id": "3549"
      }
     },
     "output_type": "execute_result"
    }
   ],
   "source": [
    "data.hvplot.points(\n",
    "    'Longitude',\n",
    "    'Latitude',\n",
    "    geo = True,\n",
    "    legend = True,\n",
    "    tiles = 'OSM',\n",
    "    title = \"Gas Price Increase Rates from 2016-2021\",\n",
    "    hover_fill_color = \"yellow\",\n",
    "    frame_width = 900,\n",
    "    frame_height = 500,\n",
    "    edge_color = 'black'\n",
    ")"
   ]
  },
  {
   "cell_type": "code",
   "execution_count": null,
   "id": "6d23d27d-81dc-400f-af45-43e03114dbe2",
   "metadata": {},
   "outputs": [],
   "source": [
    "for region in source_to_dest:\n",
    "    fig.add_trace(go.Scattergeo(\n",
    "                        lat = [slat,dlat],\n",
    "                        lon = [slon, dlon],\n",
    "                        mode = 'lines',\n",
    "                        line = dict(width = num_flights/100, color=\"lime\")\n",
    "                        ))"
   ]
  },
  {
   "cell_type": "code",
   "execution_count": 30,
   "id": "28f2b78b-77ac-4218-918b-2a53fcc8f978",
   "metadata": {},
   "outputs": [],
   "source": [
    "#US_regions_json = pd.DataFrame(data)"
   ]
  },
  {
   "cell_type": "code",
   "execution_count": 16,
   "id": "ba0afc21-ed49-4c31-b50a-2d43ec3b8252",
   "metadata": {},
   "outputs": [],
   "source": [
    "#US_regions_json.plot()"
   ]
  },
  {
   "cell_type": "code",
   "execution_count": 30,
   "id": "3c8a7d5f-435f-4e78-bb67-332d4dbb9388",
   "metadata": {},
   "outputs": [],
   "source": []
  },
  {
   "cell_type": "code",
   "execution_count": 44,
   "id": "af0c60af-3f5f-4ad5-a0dc-6bd4b44bd794",
   "metadata": {},
   "outputs": [],
   "source": [
    "#US_regions_df = US_regions_json.filter(['Region', 'geometry'], axis = 1)"
   ]
  },
  {
   "cell_type": "code",
   "execution_count": 45,
   "id": "aa02a5ed-fca6-4c2e-81c2-5951052a966e",
   "metadata": {},
   "outputs": [
    {
     "data": {
      "text/html": [
       "<div>\n",
       "<style scoped>\n",
       "    .dataframe tbody tr th:only-of-type {\n",
       "        vertical-align: middle;\n",
       "    }\n",
       "\n",
       "    .dataframe tbody tr th {\n",
       "        vertical-align: top;\n",
       "    }\n",
       "\n",
       "    .dataframe thead th {\n",
       "        text-align: right;\n",
       "    }\n",
       "</style>\n",
       "<table border=\"1\" class=\"dataframe\">\n",
       "  <thead>\n",
       "    <tr style=\"text-align: right;\">\n",
       "      <th></th>\n",
       "      <th>Region</th>\n",
       "      <th>geometry</th>\n",
       "    </tr>\n",
       "  </thead>\n",
       "  <tbody>\n",
       "    <tr>\n",
       "      <th>0</th>\n",
       "      <td>All</td>\n",
       "      <td>LINESTRING (-130.25391 50.62507, -63.69922 50....</td>\n",
       "    </tr>\n",
       "    <tr>\n",
       "      <th>1</th>\n",
       "      <td>Northeast</td>\n",
       "      <td>LINESTRING (-80.52979 42.30982, -80.55176 39.7...</td>\n",
       "    </tr>\n",
       "    <tr>\n",
       "      <th>2</th>\n",
       "      <td>Midwest</td>\n",
       "      <td>LINESTRING (-103.97461 48.95137, -104.06250 41...</td>\n",
       "    </tr>\n",
       "    <tr>\n",
       "      <th>3</th>\n",
       "      <td>West</td>\n",
       "      <td>LINESTRING (-103.97461 48.95137, -104.15039 41...</td>\n",
       "    </tr>\n",
       "    <tr>\n",
       "      <th>4</th>\n",
       "      <td>South</td>\n",
       "      <td>LINESTRING (-102.91992 37.02010, -103.05176 31...</td>\n",
       "    </tr>\n",
       "  </tbody>\n",
       "</table>\n",
       "</div>"
      ],
      "text/plain": [
       "      Region                                           geometry\n",
       "0        All  LINESTRING (-130.25391 50.62507, -63.69922 50....\n",
       "1  Northeast  LINESTRING (-80.52979 42.30982, -80.55176 39.7...\n",
       "2    Midwest  LINESTRING (-103.97461 48.95137, -104.06250 41...\n",
       "3       West  LINESTRING (-103.97461 48.95137, -104.15039 41...\n",
       "4      South  LINESTRING (-102.91992 37.02010, -103.05176 31..."
      ]
     },
     "execution_count": 45,
     "metadata": {},
     "output_type": "execute_result"
    }
   ],
   "source": []
  },
  {
   "cell_type": "code",
   "execution_count": null,
   "id": "f2dd83a5-11b3-4b48-86a2-b6d9565d5a31",
   "metadata": {},
   "outputs": [],
   "source": []
  },
  {
   "cell_type": "code",
   "execution_count": null,
   "id": "a2520a86-c18b-4863-8b07-fde2e12d07e6",
   "metadata": {},
   "outputs": [],
   "source": []
  },
  {
   "cell_type": "code",
   "execution_count": null,
   "id": "22530917-ac80-4933-966c-7b3a3716ea13",
   "metadata": {},
   "outputs": [],
   "source": []
  }
 ],
 "metadata": {
  "kernelspec": {
   "display_name": "Python (dev)",
   "language": "python",
   "name": "dev"
  },
  "language_info": {
   "codemirror_mode": {
    "name": "ipython",
    "version": 3
   },
   "file_extension": ".py",
   "mimetype": "text/x-python",
   "name": "python",
   "nbconvert_exporter": "python",
   "pygments_lexer": "ipython3",
   "version": "3.7.10"
  }
 },
 "nbformat": 4,
 "nbformat_minor": 5
}
